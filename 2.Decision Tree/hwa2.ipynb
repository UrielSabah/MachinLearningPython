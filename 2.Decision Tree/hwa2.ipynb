{
 "cells": [
  {
   "cell_type": "markdown",
   "metadata": {},
   "source": [
    "# Exercise 2: Decision Trees\n",
    "\n",
    "In this assignment you will implement a Decision Tree algorithm as learned in class.\n",
    "\n",
    "## Read the following instructions carefully:\n",
    "\n",
    "1. This jupyter notebook contains all the step by step instructions needed for this exercise.\n",
    "2. Write vectorized code whenever possible.\n",
    "3. You are responsible for the correctness of your code and should add as many tests as you see fit. Tests will not be graded nor checked.\n",
    "4. Write your functions in the provided `hw2.py` python module only. All the logic you write is imported and used in this jupyter notebook.\n",
    "5. You are allowed to use functions and methods from the [Python Standard Library](https://docs.python.org/3/library/) and [numpy](https://www.numpy.org/devdocs/reference/) only. Any other imports detected in `hw2.py` will earn you the grade of 0, even if you only used them for testing.\n",
    "6. Your code must run without errors. During the environment setup, you were given a specific version of `numpy` to install. Changes of the configuration we provided are at your own risk. Code that cannot run will also earn you the grade of 0.\n",
    "7. Write your own code. Cheating will not be tolerated. \n",
    "8. Submission includes the `hw2.py` file and this notebook. Answers to qualitative questions should be written in markdown cells (with $\\LaTeX$ support).\n",
    "9. You are allowed to include additional functions.\n",
    "10. Submission: zip only the completed jupyter notebook and the python file `hw2.py`. Do not include the data or any directories. Name the file `ID1_ID2.zip` and submit only one copy of the assignment.\n",
    "\n",
    "## In this exercise you will perform the following:\n",
    "1. Practice OOP in python.\n",
    "2. Implement two impurity measures: Gini and Entropy.\n",
    "3. Implement a decision tree from scratch.\n",
    "4. Prune the tree to achieve better results.\n",
    "5. Visualize your results and the tree."
   ]
  },
  {
   "cell_type": "code",
   "execution_count": 1,
   "metadata": {
    "deletable": false,
    "editable": false,
    "nbgrader": {
     "checksum": "63bcec20cb406a2169b49168f173c760",
     "grade": false,
     "grade_id": "cell-ed9fe7b1026e33cb",
     "locked": true,
     "schema_version": 1,
     "solution": false
    }
   },
   "outputs": [],
   "source": [
    "import numpy as np\n",
    "import pandas as pd\n",
    "import matplotlib.pyplot as plt\n",
    "from hw2 import * # this imports all functions from hw2.\n",
    "\n",
    "# make matplotlib figures appear inline in the notebook\n",
    "%matplotlib inline\n",
    "plt.rcParams['figure.figsize'] = (10.0, 8.0) # set default size of plots\n",
    "plt.rcParams['image.interpolation'] = 'nearest'\n",
    "plt.rcParams['image.cmap'] = 'gray'\n",
    "\n",
    "# Make the notebook automatically reload external python modules\n",
    "%load_ext autoreload\n",
    "%autoreload 2"
   ]
  },
  {
   "cell_type": "markdown",
   "metadata": {},
   "source": [
    "## Warmup - OOP in python\n",
    "\n",
    "Our decision tree will be implemented using a dedicated python class. Python classes are very similar to classes in Java.\n",
    "\n",
    "\n",
    "You can use the following [site](https://jeffknupp.com/blog/2014/06/18/improve-your-python-python-classes-and-object-oriented-programming/) to learn about classes in python."
   ]
  },
  {
   "cell_type": "code",
   "execution_count": 2,
   "metadata": {},
   "outputs": [
    {
     "data": {
      "text/plain": [
       "(array([1., 2., 3.]), array([4, 2, 3]))"
      ]
     },
     "execution_count": 2,
     "metadata": {},
     "output_type": "execute_result"
    }
   ],
   "source": [
    "class Node(object):\n",
    "    def __init__(self, data):\n",
    "        self.data = data\n",
    "        self.children = []\n",
    "\n",
    "    def add_child(self, node):\n",
    "        self.children.append(node)\n",
    "        \n",
    "np.unique([1.0,2,3,1,2,3,3,1,1], return_counts= True)"
   ]
  },
  {
   "cell_type": "code",
   "execution_count": 3,
   "metadata": {},
   "outputs": [
    {
     "data": {
      "text/plain": [
       "[<__main__.Node at 0x105b4d358>, <__main__.Node at 0x105b4d4e0>]"
      ]
     },
     "execution_count": 3,
     "metadata": {},
     "output_type": "execute_result"
    }
   ],
   "source": [
    "n = Node(5)\n",
    "p = Node(6)\n",
    "q = Node(7)\n",
    "n.add_child(p)\n",
    "n.add_child(q)\n",
    "n.children"
   ]
  },
  {
   "cell_type": "markdown",
   "metadata": {},
   "source": [
    "## Data preprocessing\n",
    "\n",
    "We will use the breast cancer dataset that is available as a part of sklearn - a popular machine learning and data science library in python. In this example, our dataset will be a single matrix with the **labels on the last column**. Notice that you are not allowed to use additional functions from sklearn."
   ]
  },
  {
   "cell_type": "code",
   "execution_count": 4,
   "metadata": {
    "deletable": false,
    "editable": false,
    "nbgrader": {
     "checksum": "0e2620b671ce98b8a856d59ce9f95f71",
     "grade": false,
     "grade_id": "cell-d79cb4542926ad3f",
     "locked": true,
     "schema_version": 1,
     "solution": false
    }
   },
   "outputs": [
    {
     "name": "stdout",
     "output_type": "stream",
     "text": [
      "Training dataset shape:  (426, 31)\n",
      "Testing dataset shape:  (143, 31)\n"
     ]
    }
   ],
   "source": [
    "from sklearn import datasets\n",
    "from sklearn.model_selection import train_test_split\n",
    "\n",
    "# load dataset\n",
    "X, y = datasets.load_breast_cancer(return_X_y = True)\n",
    "X = np.column_stack([X,y]) # the last column holds the labels\n",
    "\n",
    "# split dataset\n",
    "X_train, X_test = train_test_split(X, random_state=99)\n",
    "\n",
    "print(\"Training dataset shape: \", X_train.shape)\n",
    "print(\"Testing dataset shape: \", X_test.shape)"
   ]
  },
  {
   "cell_type": "markdown",
   "metadata": {},
   "source": [
    "## Impurity Measures\n",
    "\n",
    "Implement the functions `calc_gini` (5 points) and `calc_entropy` (5 points) in the python file `hw2.py`. You are encouraged to test your implementation using the cell below."
   ]
  },
  {
   "cell_type": "code",
   "execution_count": 5,
   "metadata": {},
   "outputs": [
    {
     "data": {
      "text/plain": [
       "0.9675594819018212"
      ]
     },
     "execution_count": 5,
     "metadata": {},
     "output_type": "execute_result"
    }
   ],
   "source": [
    "calc_gini(X_train)\n",
    "calc_entropy(X_train)"
   ]
  },
  {
   "cell_type": "markdown",
   "metadata": {},
   "source": [
    "## Building a Decision Tree\n",
    "\n",
    "Use a Python class to construct the decision tree (look at the `DecisionNode` class in the python file `hw2.py`. Your class should support the following functionality:\n",
    "\n",
    "1. Initiating a node for a decision tree. You will need to use several class methods and class attributes and you are free to use them as you see fit. We recommend that every node will hold the feature and value used for the split and its children.\n",
    "2. Your code should support both Gini and Entropy as impurity measures. \n",
    "3. The provided data includes continuous data. In this exercise, create at most a single split for each node of the tree. The threshold you need to use for this exercise are the average of each consecutive pair of values. For example, assume some features contains the following values: [1,2,3,4,5]. You should use the following thresholds [1.5, 2.5, 3.5, 4.5]. \n",
    "4. When constructing the tree, test all possible thresholds for each feature. The stopping criteria is a pure tree.\n",
    "\n",
    "Complete the class `DecisionNode` in the python file `hw2.py`. The structure of this class is entirely up to you. Complete the function `build_tree` in the python file `hw2.py`. This function should get the training dataset and the impurity as inputs, initiate a root for the decision tree and construct the tree according to the procedure you learned in class. (30 points)."
   ]
  },
  {
   "cell_type": "code",
   "execution_count": 6,
   "metadata": {},
   "outputs": [],
   "source": [
    "# python support passing a function as arguments to another function.\n",
    "tree_gini = build_tree(data=X_train, impurity=calc_gini, chi_value=1) \n",
    "tree_entropy = build_tree(data=X_train, impurity=calc_entropy,chi_value=1)"
   ]
  },
  {
   "cell_type": "markdown",
   "metadata": {},
   "source": [
    "## Tree evaluation\n",
    "\n",
    "Complete the functions `predict` and `calc_accuracy` in the python file `hw2.py`. You are allowed to implement this functionality as a class method.\n",
    "\n",
    "After building both trees using the training set (using Gini and Entropy as impurity measures), you should calculate the accuracy on the test set and print the measure that gave you the best test accuracy. For the rest of the exercise, use that impurity measure. (10 points)"
   ]
  },
  {
   "cell_type": "code",
   "execution_count": 7,
   "metadata": {},
   "outputs": [
    {
     "name": "stdout",
     "output_type": "stream",
     "text": [
      "100.0\n",
      "100.0\n",
      "93.00699300699301\n",
      "93.7062937062937\n"
     ]
    }
   ],
   "source": [
    "print(calc_accuracy(tree_gini, X_train))\n",
    "print(calc_accuracy(tree_entropy, X_train))\n",
    "\n",
    "\n",
    "print(calc_accuracy(tree_gini, X_test))\n",
    "print(calc_accuracy(tree_entropy, X_test))"
   ]
  },
  {
   "cell_type": "markdown",
   "metadata": {},
   "source": [
    "## Chi square pre-pruning\n",
    "\n",
    "Consider the following p-value cut-off values: [1 (no pruning), 0.01, 0.005, 0.001, 0.0005, 0.0001, 0.00001]. For each value, construct a tree and prune it according to the cut-off value. Next, calculate the training and testing accuracy. On a single plot, draw the training and testing accuracy as a function of the p-value. What p-value gives you the best results? Does the results support the theory you learned in class regarding Chi square pruning? Explain. (20 points)\n",
    "\n",
    "**Note**: You need to change the `DecisionNode` to support Chi square pruning. Make sure the `chi_value=1` corresponds to no pruning. The values you need from the Chi square table are available in the python file `hw2.py`."
   ]
  },
  {
   "cell_type": "code",
   "execution_count": 8,
   "metadata": {},
   "outputs": [
    {
     "name": "stdout",
     "output_type": "stream",
     "text": [
      "[100.0, 99.53051643192488, 98.82629107981221, 96.71361502347418, 96.47887323943662, 95.53990610328638, 95.53990610328638]\n",
      "[93.7062937062937, 94.4055944055944, 94.4055944055944, 91.6083916083916, 91.6083916083916, 92.3076923076923, 92.3076923076923]\n"
     ]
    }
   ],
   "source": [
    "training = []\n",
    "testing  = []\n",
    "#print(chi_square(X_train, 168, 250))\n",
    "#### Your code here ####\n",
    "for chi_value in [1, 0.01, 0.005, 0.001, 0.0005, 0.0001, 0.00001]:\n",
    "    tree_entropy = build_tree(data=X_train, impurity=calc_entropy, chi_value=chi_value)\n",
    "    \n",
    "    trainAcc = calc_accuracy(tree_entropy, X_train)\n",
    "    teasAcc = calc_accuracy(tree_entropy, X_test)\n",
    "    \n",
    "\n",
    "    training.append(trainAcc)\n",
    "    testing.append(teasAcc)\n",
    "\n",
    "\n",
    "    \n",
    "print(training)\n",
    "print(testing)\n"
   ]
  },
  {
   "cell_type": "code",
   "execution_count": 9,
   "metadata": {},
   "outputs": [
    {
     "data": {
      "image/png": "[encoded data removed]",
      "text/plain": [
       "<Figure size 432x288 with 1 Axes>"
      ]
     },
     "metadata": {
      "needs_background": "light"
     },
     "output_type": "display_data"
    }
   ],
   "source": [
    "#draw\n",
    "values = [1, 0.01, 0.005, 0.001, 0.0005, 0.0001, 0.00001]\n",
    "plt.plot(values, training , marker = 'o')\n",
    "plt.plot(values, testing, marker = 'o') \n",
    "plt.xscale('log')\n",
    "plt.xlabel('p-value')\n",
    "plt.ylabel('accuracy')\n",
    "plt.title('training and testing accuracy as a function of the p-value')\n",
    "plt.legend(['testing', 'training'])\n",
    "plt.show()\n",
    "\n",
    "\n",
    "\n"
   ]
  },
  {
   "cell_type": "markdown",
   "metadata": {},
   "source": [
    "הגרף הכחול - ״האימון״ ככל שאנחנו עושים יותר ויותר פיצולים אנחנו נגיע ל100 אחוז שכן העלים כולם יהיו טהורים ולכן בהכרח נדע להגיד על כל אחד מה הוא.\n",
    "הגרף הכתום - ״הטסט״ - זה תומך במה שראינו בכיתה כי יש עלייה בדיוק של העץ, ואז יש  ירידה קטנה כי ככל הנראה היו שם פיצולים שלא תרמו לדיוק של העץ ולאחר מכן עלייה כי נוצרים עוד פיצולים  ומתיישר לקו שכן ככל שנגדיל את הערך של ה׳פ׳ אז אנחנו כבר נשארים עם אותו העץ, כפי שראינו והוסבר בכיתה."
   ]
  },
  {
   "cell_type": "markdown",
   "metadata": {},
   "source": [
    "## Post pruning\n",
    "\n",
    "Construct a decision tree without Chi square pruning. For each leaf in the tree, calculate the test accuracy of the tree assuming no split occurred on the parent of that leaf and find the best such parent (in the sense that not splitting on that parent results in the best testing accuracy among possible parents). Make that parent into a leaf and repeat this process until you are left with just the root. On a single plot, draw the training and testing accuracy as a function of the number of internal nodes in the tree. Explain the results: what would happen to the training and testing accuracies when you remove nodes from the tree? Can you suggest a different approach to achieve better results? (20 points)"
   ]
  },
  {
   "cell_type": "code",
   "execution_count": 10,
   "metadata": {},
   "outputs": [
    {
     "name": "stdout",
     "output_type": "stream",
     "text": [
      "train accuracy:  [100.0, 99.76525821596243, 99.53051643192488, 99.29577464788733, 99.06103286384976, 98.82629107981221, 98.12206572769952, 97.41784037558685, 96.47887323943662, 95.30516431924883, 94.83568075117371, 92.72300469483568, 60.56338028169014]\n",
      "train count nodes:  [15, 13, 11, 10, 9, 8, 6, 5, 4, 3, 2, 1, 0]\n",
      "test accuracy:  [93.7062937062937, 94.4055944055944, 94.4055944055944, 94.4055944055944, 94.4055944055944, 94.4055944055944, 94.4055944055944, 93.7062937062937, 93.00699300699301, 89.5104895104895, 69.23076923076923]\n",
      "test count nodes:  [15, 14, 12, 11, 8, 7, 6, 4, 2, 1, 0]\n"
     ]
    },
    {
     "data": {
      "image/png": "[encoded data removed]",
      "text/plain": [
       "<Figure size 432x288 with 1 Axes>"
      ]
     },
     "metadata": {
      "needs_background": "light"
     },
     "output_type": "display_data"
    }
   ],
   "source": [
    "#build some tree for first accuracy\n",
    "some_tree = build_tree(data=X_train, impurity=calc_entropy, chi_value=1)\n",
    "\n",
    "#build the tree\n",
    "tree_post_pruning = build_tree(data=X_train, impurity=calc_entropy, chi_value=1)\n",
    "#get the firs leaves\n",
    "leaves = []\n",
    "get_leaf_nodes(root=tree_post_pruning, leafs=leaves)\n",
    "#count all the internel nodes before post pruning\n",
    "first = count_nodes(some_tree)\n",
    "#calculate the train accuracy of the tree assuming Post pruning\n",
    "acc_list_train ,count_list_train = post_pruning(data=X_train, root= tree_post_pruning)\n",
    "#add to the list the first accuracy and the first number of nodes\n",
    "acc_list_train.insert(0,calc_accuracy(some_tree, X_train))\n",
    "count_list_train.insert(0,first)\n",
    "\n",
    "#calculate the test accuracy of the tree assuming Post pruning\n",
    "tree_post_pruning = build_tree(data=X_train, impurity=calc_entropy, chi_value=1)\n",
    "#calculate the test accuracy of the tree assuming Post pruning\n",
    "acc_list_test ,count_list_test = post_pruning(data=X_test, root= tree_post_pruning)\n",
    "#add to the list the first accuracy and the first number of nodes\n",
    "acc_list_test.insert(0,calc_accuracy(some_tree, X_test))\n",
    "count_list_test.insert(0,first)\n",
    "\n",
    "#print all the resullts\n",
    "print(\"train accuracy: \", acc_list_train)\n",
    "print(\"train count nodes: \", count_list_train)\n",
    "print(\"test accuracy: \", acc_list_test)\n",
    "print(\"test count nodes: \", count_list_test)\n",
    "\n",
    "#draw all the results\n",
    "plt.xscale('linear')\n",
    "plt.yscale('linear')\n",
    "plt.xlabel('number of nodes')\n",
    "plt.ylabel('accuracy')\n",
    "\n",
    "plt.plot(count_list_train,acc_list_train, marker = 'o') \n",
    "plt.plot(count_list_test,acc_list_test , marker = 'o') \n",
    "\n",
    "plt.title('training and testing accuracy as a function of count nodes')\n",
    "plt.legend(['training','testing'])\n",
    "plt.show() "
   ]
  },
  {
   "cell_type": "markdown",
   "metadata": {},
   "source": [
    "עבור שניהם ככל שנוריד נודים מעץ, הדיוק של העץ ילך וירד מכיוון שמהעלים שהם טהורים ולכן יש דיוק גבוה יחסית בחיזוי, אנחנו עולים למעלה להורים של העלים שעובדים לפי רוב, ואז הדיוק כמובן יורד לאט לאט, כי שואלים פחות שאלות על כל אינסטנס חדש ולכן הדיוק עליו ירד.\n",
    "הגישה החדשה שאני מציע היא שבמקום לחתוך כפי שלמדנו, היא להשתמש בחי סקוור כלפי מעלה, ולבדוק האם החלוקה הייתה רנדמולית או לא, אם היא רנדומלית אז אפשר למחוק את החלוקה כלומר את העלים האלה, ואם החלוקה לא רנדומלית אז לשמור, להמשיל ככה על כל העלים עד שבדקנו את כל העלים. אם מחקנו עלים אז האבא נהיה עלה ואז נבדוק אותו גם.\n",
    "הגישה עשויה להיות יותר טובה כי לא חייבים לעבור על כל העץ, אם הגענו למצב שבו כל העלים לא חולקו רנדומלית אז סיימנו. במקום להגיע  לשורש"
   ]
  },
  {
   "cell_type": "markdown",
   "metadata": {},
   "source": [
    "## Print the tree\n",
    "\n",
    "Complete the function `print_tree` in the python file `hw2.py` and print the tree using the chosen impurity measure and no pruning. Your code should like something like this (10 points):\n",
    "```\n",
    "[X0 <= 1],\n",
    "  [X1 <= 2]\n",
    "    [X2 <= 3], \n",
    "       leaf: [{1.0: 10}]\n",
    "       leaf: [{0.0: 10}]\n",
    "    [X4 <= 5], \n",
    "       leaf: [{1.0: 5}]\n",
    "       leaf: [{0.0: 10}]\n",
    "   leaf: [{1.0: 50}]\n",
    "```\n"
   ]
  },
  {
   "cell_type": "code",
   "execution_count": 11,
   "metadata": {},
   "outputs": [
    {
     "name": "stdout",
     "output_type": "stream",
     "text": [
      "[x27 <= 0.14235],\n",
      "\t[x3 <= 696.25],\n",
      "\t\t[x27 <= 0.1349],\n",
      "\t\t\t[x10 <= 0.62555],\n",
      "\t\t\t\t[x21 <= 33.349999999999994],\n",
      "\t\t\t\t\tleaf: [{1.0: 216}]\n",
      "\t\t\t\t\t[x21 <= 33.56],\n",
      "\t\t\t\t\t\tleaf: [{0.0: 1}]\n",
      "\t\t\t\t\t\tleaf: [{1.0: 17}]\n",
      "\t\t\t\t[x1 <= 18.630000000000003],\n",
      "\t\t\t\t\tleaf: [{0.0: 1}]\n",
      "\t\t\t\t\tleaf: [{1.0: 2}]\n",
      "\t\t\t[x15 <= 0.02744],\n",
      "\t\t\t\t[x0 <= 13.225000000000001],\n",
      "\t\t\t\t\tleaf: [{1.0: 1}]\n",
      "\t\t\t\t\tleaf: [{0.0: 4}]\n",
      "\t\t\t\tleaf: [{1.0: 6}]\n",
      "\t\t[x1 <= 19.72],\n",
      "\t\t\t[x6 <= 0.073105],\n",
      "\t\t\t\tleaf: [{1.0: 7}]\n",
      "\t\t\t\tleaf: [{0.0: 3}]\n",
      "\t\t\tleaf: [{0.0: 13}]\n",
      "\t[x13 <= 21.924999999999997],\n",
      "\t\t[x21 <= 29.0],\n",
      "\t\t\t[x1 <= 20.52],\n",
      "\t\t\t\tleaf: [{1.0: 8}]\n",
      "\t\t\t\tleaf: [{0.0: 1}]\n",
      "\t\t\tleaf: [{0.0: 5}]\n",
      "\t\t[x4 <= 0.079285],\n",
      "\t\t\tleaf: [{1.0: 1}]\n",
      "\t\t\tleaf: [{0.0: 140}]\n"
     ]
    }
   ],
   "source": [
    "tree = build_tree(data=X_train, impurity=calc_entropy, chi_value=1)\n",
    "print_tree(tree)\n"
   ]
  },
  {
   "cell_type": "code",
   "execution_count": null,
   "metadata": {},
   "outputs": [],
   "source": []
  }
 ],
 "metadata": {
  "kernelspec": {
   "display_name": "Python 3",
   "language": "python",
   "name": "python3"
  },
  "language_info": {
   "codemirror_mode": {
    "name": "ipython",
    "version": 3
   },
   "file_extension": ".py",
   "mimetype": "text/x-python",
   "name": "python",
   "nbconvert_exporter": "python",
   "pygments_lexer": "ipython3",
   "version": "3.7.1"
  }
 },
 "nbformat": 4,
 "nbformat_minor": 2
}
