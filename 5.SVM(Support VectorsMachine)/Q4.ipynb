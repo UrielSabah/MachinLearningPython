{
 "cells": [
  {
   "cell_type": "markdown",
   "metadata": {},
   "source": [
    "# Q 4"
   ]
  },
  {
   "cell_type": "code",
   "execution_count": 1,
   "metadata": {},
   "outputs": [],
   "source": [
    "import numpy as np\n",
    "from itertools import permutations, combinations"
   ]
  },
  {
   "cell_type": "markdown",
   "metadata": {},
   "source": [
    "### a.\n",
    "Draw 20,000 vectors with 20 dimensions."
   ]
  },
  {
   "cell_type": "code",
   "execution_count": 2,
   "metadata": {},
   "outputs": [],
   "source": [
    "vectors = np.random.randn(20000, 20)"
   ]
  },
  {
   "cell_type": "markdown",
   "metadata": {},
   "source": [
    "### b.\n",
    "calculation of gram matrix with kernels."
   ]
  },
  {
   "cell_type": "code",
   "execution_count": 3,
   "metadata": {},
   "outputs": [
    {
     "name": "stdout",
     "output_type": "stream",
     "text": [
      "CPU times: user 5.89 s, sys: 2.44 s, total: 8.33 s\n",
      "Wall time: 8.18 s\n"
     ]
    }
   ],
   "source": [
    "%%time\n",
    "number_vectors=20000\n",
    "gram_matrix = (vectors.dot(vectors.T) + 1) ** 2"
   ]
  },
  {
   "cell_type": "markdown",
   "metadata": {},
   "source": [
    "### c.\n",
    "from the theoretical part:\n",
    "\n",
    "$\n",
    "(x\\bullet y + 1)^2\n",
    "=(\\sum_{i=1}^{n}x_i y_i)^2+2\\bullet\\sum_{i=1}^{n}x_i y_i +1\n",
    "=(\\sum_{i=1}^{n}x_i y_i)(\\sum_{j=1}^{n}x_j y_j) +2 \\bullet\\sum_{i=1}^{n}x_i y_i +1\n",
    "= \\sum_{i=1}^{n}\\sum_{j=1}^{n}x_i y_ix_j y_j+2\\bullet\\sum_{i=1}^{n}x_i y_i +1\n",
    "$\n",
    "\n",
    "so,there will be  ${n + d \\choose n}={20 + 2 \\choose 20}=231$ dimensions\n"
   ]
  },
  {
   "cell_type": "markdown",
   "metadata": {},
   "source": [
    "### d.\n",
    "The mapping that corresponds to the kernel."
   ]
  },
  {
   "cell_type": "code",
   "execution_count": 4,
   "metadata": {},
   "outputs": [],
   "source": [
    "permutation = map(lambda x: list(permutations(x, 2)), vectors)\n",
    "\n",
    "product = list(map(lambda x: list(map(lambda y: y[0]*y[1], x)), permutation))\n",
    "squareOfTwo = np.sqrt(2) * vectors\n",
    "\n",
    "higher_dim = np.concatenate((np.array([np.ones(number_vectors)]).T, squareOfTwo), axis=1)\n",
    "##print (higher)\n",
    "squares = np.square(vectors)\n",
    "higher_dim = np.concatenate((higher_dim, squares), axis=1)\n",
    "higher_dim = np.concatenate((higher_dim, product), axis=1)\n",
    "\n",
    "##print (higher)"
   ]
  },
  {
   "cell_type": "markdown",
   "metadata": {},
   "source": [
    "### e.\n",
    "calculation of gram matrix by the mapping tecnique."
   ]
  },
  {
   "cell_type": "code",
   "execution_count": 5,
   "metadata": {
    "scrolled": true
   },
   "outputs": [
    {
     "name": "stdout",
     "output_type": "stream",
     "text": [
      "CPU times: user 10.1 s, sys: 4.17 s, total: 14.3 s\n",
      "Wall time: 16.1 s\n"
     ]
    }
   ],
   "source": [
    "%%time\n",
    "high_dim_matrix = higher_dim.dot(higher_dim.T)"
   ]
  },
  {
   "cell_type": "markdown",
   "metadata": {},
   "source": [
    "### f.\n",
    "Check if the two types of matrices are equal."
   ]
  },
  {
   "cell_type": "code",
   "execution_count": 6,
   "metadata": {},
   "outputs": [
    {
     "data": {
      "text/plain": [
       "True"
      ]
     },
     "execution_count": 6,
     "metadata": {},
     "output_type": "execute_result"
    }
   ],
   "source": [
    "np.isclose(gram_matrix, high_dim_matrix).sum() == number_vectors ** 2"
   ]
  },
  {
   "cell_type": "markdown",
   "metadata": {},
   "source": [
    "### g.\n",
    "the time of the computation for the gran matrix with the kernel method is more faster than the mapping with the dot product method.\n",
    "\n",
    "\n"
   ]
  }
 ],
 "metadata": {
  "kernelspec": {
   "display_name": "Python 3",
   "language": "python",
   "name": "python3"
  },
  "language_info": {
   "codemirror_mode": {
    "name": "ipython",
    "version": 3
   },
   "file_extension": ".py",
   "mimetype": "text/x-python",
   "name": "python",
   "nbconvert_exporter": "python",
   "pygments_lexer": "ipython3",
   "version": "3.7.1"
  }
 },
 "nbformat": 4,
 "nbformat_minor": 2
}
